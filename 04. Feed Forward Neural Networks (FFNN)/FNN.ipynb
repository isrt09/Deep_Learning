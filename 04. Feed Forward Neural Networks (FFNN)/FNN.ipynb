{
 "cells": [
  {
   "cell_type": "code",
   "execution_count": 7,
   "id": "e57210ce",
   "metadata": {},
   "outputs": [],
   "source": [
    "# Load Dataset from scikit-learn library"
   ]
  },
  {
   "cell_type": "code",
   "execution_count": 4,
   "id": "30d32e3a",
   "metadata": {},
   "outputs": [],
   "source": [
    "from sklearn.datasets import load_iris"
   ]
  },
  {
   "cell_type": "code",
   "execution_count": 5,
   "id": "d05be662",
   "metadata": {},
   "outputs": [],
   "source": [
    "datasets = load_iris()"
   ]
  },
  {
   "cell_type": "code",
   "execution_count": 10,
   "id": "440dc9b1",
   "metadata": {},
   "outputs": [],
   "source": [
    "# Input Numbers"
   ]
  },
  {
   "cell_type": "code",
   "execution_count": 11,
   "id": "09f8948e",
   "metadata": {},
   "outputs": [],
   "source": [
    "data   = datasets.data\n",
    "target = datasets.target"
   ]
  },
  {
   "cell_type": "code",
   "execution_count": 16,
   "id": "eef3cdfe",
   "metadata": {},
   "outputs": [
    {
     "data": {
      "text/plain": [
       "array([0, 1, 2])"
      ]
     },
     "execution_count": 16,
     "metadata": {},
     "output_type": "execute_result"
    }
   ],
   "source": [
    "import numpy as np\n",
    "np.unique(target)"
   ]
  },
  {
   "cell_type": "code",
   "execution_count": 13,
   "id": "e57f5bd1",
   "metadata": {},
   "outputs": [],
   "source": [
    "import tensorflow as tf\n",
    "from tensorflow.keras.layers import Dense\n",
    "from tensorflow.keras.models import Sequential"
   ]
  },
  {
   "cell_type": "code",
   "execution_count": 20,
   "id": "f92f8514",
   "metadata": {},
   "outputs": [],
   "source": [
    "# Create a Model\n",
    "model = Sequential()\n",
    "# 1st Hidden Layer\n",
    "model.add(Dense(8, input_dim = 4, activation = 'relu'))\n",
    "# 2nd Hidden Layer\n",
    "model.add(Dense(8, input_dim = 8, activation = 'relu'))\n",
    "# Final Layer\n",
    "model.add(Dense(3, input_dim = 8, activation = 'softmax'))"
   ]
  },
  {
   "cell_type": "code",
   "execution_count": 60,
   "id": "9476e156",
   "metadata": {},
   "outputs": [],
   "source": [
    "model.compile(loss = \"categorical_crossentropy\", optimizer = \"sgd\", metrics = ['accuracy'])"
   ]
  },
  {
   "cell_type": "code",
   "execution_count": 61,
   "id": "fe5e23cd",
   "metadata": {},
   "outputs": [],
   "source": [
    "from sklearn.model_selection import train_test_split"
   ]
  },
  {
   "cell_type": "code",
   "execution_count": 62,
   "id": "41a5eec0",
   "metadata": {},
   "outputs": [],
   "source": [
    "train_data, test_data, train_target, test_target = train_test_split(data,target, test_size = 0.2)"
   ]
  },
  {
   "cell_type": "code",
   "execution_count": 63,
   "id": "c285884e",
   "metadata": {},
   "outputs": [],
   "source": [
    "from tensorflow.keras.utils import to_categorical"
   ]
  },
  {
   "cell_type": "code",
   "execution_count": 64,
   "id": "b3fd524c",
   "metadata": {},
   "outputs": [],
   "source": [
    "update_train_target = to_categorical(train_target)"
   ]
  },
  {
   "cell_type": "code",
   "execution_count": 73,
   "id": "d8a92ca4",
   "metadata": {},
   "outputs": [
    {
     "name": "stdout",
     "output_type": "stream",
     "text": [
      "[[1. 0. 0.]\n",
      " [0. 0. 1.]\n",
      " [1. 0. 0.]\n",
      " [0. 0. 1.]\n",
      " [0. 1. 0.]]\n"
     ]
    }
   ],
   "source": [
    "print(update_train_target[:5])"
   ]
  },
  {
   "cell_type": "code",
   "execution_count": 66,
   "id": "0dcc833d",
   "metadata": {},
   "outputs": [
    {
     "name": "stdout",
     "output_type": "stream",
     "text": [
      "Epoch 1/5\n",
      "4/4 [==============================] - 1s 3ms/step - loss: 0.5375 - accuracy: 0.9417\n",
      "Epoch 2/5\n",
      "4/4 [==============================] - 0s 4ms/step - loss: 0.5355 - accuracy: 0.9000\n",
      "Epoch 3/5\n",
      "4/4 [==============================] - 0s 3ms/step - loss: 0.5240 - accuracy: 0.9417\n",
      "Epoch 4/5\n",
      "4/4 [==============================] - 0s 3ms/step - loss: 0.5227 - accuracy: 0.9167\n",
      "Epoch 5/5\n",
      "4/4 [==============================] - 0s 4ms/step - loss: 0.5116 - accuracy: 0.9333\n"
     ]
    }
   ],
   "source": [
    "history = model.fit(train_data, update_train_target, epochs = 5)"
   ]
  },
  {
   "cell_type": "code",
   "execution_count": 67,
   "id": "e2e1d6fc",
   "metadata": {},
   "outputs": [],
   "source": [
    "import matplotlib.pyplot as plt"
   ]
  },
  {
   "cell_type": "code",
   "execution_count": 68,
   "id": "46c5e53f",
   "metadata": {},
   "outputs": [
    {
     "data": {
      "image/png": "[encoded data removed]",
      "text/plain": [
       "<Figure size 432x288 with 1 Axes>"
      ]
     },
     "metadata": {
      "needs_background": "light"
     },
     "output_type": "display_data"
    }
   ],
   "source": [
    "plt.plot(history.history['loss'])\n",
    "plt.xlabel(\"Iterations\")\n",
    "plt.ylabel(\"Loss Values\")\n",
    "plt.show()"
   ]
  },
  {
   "cell_type": "code",
   "execution_count": 69,
   "id": "347971e7",
   "metadata": {},
   "outputs": [
    {
     "data": {
      "image/png": "[encoded data removed]",
      "text/plain": [
       "<Figure size 432x288 with 1 Axes>"
      ]
     },
     "metadata": {
      "needs_background": "light"
     },
     "output_type": "display_data"
    }
   ],
   "source": [
    "plt.plot(history.history['accuracy'])\n",
    "plt.xlabel(\"Iterations\")\n",
    "plt.ylabel(\"Accuracy Values\")\n",
    "plt.show()"
   ]
  },
  {
   "cell_type": "code",
   "execution_count": 74,
   "id": "ffe524eb",
   "metadata": {},
   "outputs": [],
   "source": [
    "predicted_target = model.predict(test_data)"
   ]
  },
  {
   "cell_type": "code",
   "execution_count": 75,
   "id": "87d451e3",
   "metadata": {},
   "outputs": [
    {
     "name": "stdout",
     "output_type": "stream",
     "text": [
      "[[0.6481226  0.27928644 0.07259099]\n",
      " [0.00690101 0.22124055 0.77185845]\n",
      " [0.6389373  0.28695428 0.07410844]\n",
      " [0.06569242 0.56842995 0.36587763]\n",
      " [0.00826375 0.32657063 0.6651656 ]\n",
      " [0.6428299  0.2807618  0.07640831]\n",
      " [0.10139409 0.5540117  0.34459424]\n",
      " [0.6451143  0.2801365  0.07474921]\n",
      " [0.06736401 0.52128315 0.41135287]\n",
      " [0.6567186  0.27668822 0.06659319]\n",
      " [0.01668188 0.32571414 0.657604  ]\n",
      " [0.03520271 0.39196035 0.57283694]\n",
      " [0.66312826 0.27458465 0.06228717]\n",
      " [0.04994013 0.60084563 0.3492143 ]\n",
      " [0.01587962 0.4697358  0.51438457]\n",
      " [0.65259516 0.27796614 0.0694388 ]\n",
      " [0.00660342 0.29659232 0.6968043 ]\n",
      " [0.02644125 0.4283188  0.54524   ]\n",
      " [0.04077713 0.48921907 0.4700038 ]\n",
      " [0.0025634  0.21478377 0.78265285]\n",
      " [0.01162549 0.38883477 0.5995397 ]\n",
      " [0.00207594 0.20920584 0.7887182 ]\n",
      " [0.66517574 0.2738822  0.06094209]\n",
      " [0.00986281 0.30337077 0.68676645]\n",
      " [0.00240884 0.21574527 0.7818459 ]\n",
      " [0.04838371 0.5282279  0.4233884 ]\n",
      " [0.6676232  0.273023   0.05935382]\n",
      " [0.659302   0.27853858 0.06215939]\n",
      " [0.02628997 0.507503   0.46620703]\n",
      " [0.01219159 0.37108603 0.6167224 ]]\n"
     ]
    }
   ],
   "source": [
    "print(predicted_target)"
   ]
  },
  {
   "cell_type": "code",
   "execution_count": 82,
   "id": "20807c09",
   "metadata": {},
   "outputs": [
    {
     "name": "stdout",
     "output_type": "stream",
     "text": [
      "Pre-Labels:     [0 2 0 1 2 0 1 0 1 0 2 2 0 1 2 0 2 2 1 2 2 2 0 2 2 1 0 0 1 2]\n",
      "Actual Labels:  [0 2 0 1 2 0 1 0 1 0 2 1 0 1 2 0 2 1 1 2 2 2 0 2 2 1 0 0 1 2]\n"
     ]
    }
   ],
   "source": [
    "print(\"Pre-Labels:    \",np.argmax(predicted_target,axis=1))\n",
    "print(\"Actual Labels: \",test_target)"
   ]
  }
 ],
 "metadata": {
  "kernelspec": {
   "display_name": "Python 3 (ipykernel)",
   "language": "python",
   "name": "python3"
  },
  "language_info": {
   "codemirror_mode": {
    "name": "ipython",
    "version": 3
   },
   "file_extension": ".py",
   "mimetype": "text/x-python",
   "name": "python",
   "nbconvert_exporter": "python",
   "pygments_lexer": "ipython3",
   "version": "3.8.10"
  }
 },
 "nbformat": 4,
 "nbformat_minor": 5
}
